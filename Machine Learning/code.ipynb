{
 "cells": [
  {
   "cell_type": "markdown",
   "metadata": {},
   "source": [
    "Project focused on using various ML models to attempt to predict whether customers of a bank would purchase a hypothetical Variable Rate Annuity (VRA) product. The goal of the project was determine which of these machine learning models performed the best using this dataset\n",
    "\n",
    "Models assessed:\n",
    "- Random Forest\n",
    "- XGBoost\n",
    "- Neural Network\n",
    "- Naive Bayes"
   ]
  },
  {
   "cell_type": "code",
   "execution_count": 7,
   "metadata": {},
   "outputs": [],
   "source": [
    "import pandas as pd\n",
    "from sklearn.ensemble import RandomForestRegressor\n",
    "from sklearn.impute import SimpleImputer\n",
    "from sklearn.model_selection import GridSearchCV"
   ]
  },
  {
   "cell_type": "code",
   "execution_count": null,
   "metadata": {},
   "outputs": [
    {
     "data": {
      "text/plain": [
       "0        0.7\n",
       "1        4.1\n",
       "2       12.3\n",
       "3        0.8\n",
       "4        1.6\n",
       "        ... \n",
       "8490    10.8\n",
       "8491     6.5\n",
       "8492     8.6\n",
       "8493     NaN\n",
       "8494    13.0\n",
       "Name: ACCTAGE, Length: 8495, dtype: float64"
      ]
     },
     "execution_count": 11,
     "metadata": {},
     "output_type": "execute_result"
    }
   ],
   "source": [
    "# load common datasets\n",
    "training = pd.read_csv(\"training.csv\")\n",
    "validation = pd.read_csv(\"validation.csv\")\n",
    "\n",
    "training.isna().sum()\n",
    "# Large number of missing values, the \"bank\" in the project specifies we should use median and mode imputation for continuous and categorical variables respectively\n",
    "\n",
    "medianImputer = SimpleImputer(missing_values=pd.NA,strategy='median')\n",
    "modeImputer = SimpleImputer(strategy='mode')\n",
    "\n",
    "medianImputer.fit_transform(training['ACCTAGE'])"
   ]
  },
  {
   "cell_type": "markdown",
   "metadata": {},
   "source": [
    "# Random Forest"
   ]
  },
  {
   "cell_type": "code",
   "execution_count": null,
   "metadata": {},
   "outputs": [],
   "source": [
    "RF_param_grid = {\n",
    "    'n_estimators'\n",
    "}"
   ]
  }
 ],
 "metadata": {
  "kernelspec": {
   "display_name": "base_ex",
   "language": "python",
   "name": "python3"
  },
  "language_info": {
   "codemirror_mode": {
    "name": "ipython",
    "version": 3
   },
   "file_extension": ".py",
   "mimetype": "text/x-python",
   "name": "python",
   "nbconvert_exporter": "python",
   "pygments_lexer": "ipython3",
   "version": "3.12.9"
  }
 },
 "nbformat": 4,
 "nbformat_minor": 2
}
